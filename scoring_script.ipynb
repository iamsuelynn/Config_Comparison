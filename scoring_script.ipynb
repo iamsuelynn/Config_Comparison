{
 "cells": [
  {
   "cell_type": "code",
   "execution_count": 3,
   "id": "67af9fe0",
   "metadata": {},
   "outputs": [],
   "source": [
    "import pandas as pd\n",
    "import gcsfs\n",
    "import pandas_gbq\n",
    "from google.cloud import bigquery\n",
    "import numpy as np\n",
    "import pickle"
   ]
  },
  {
   "cell_type": "code",
   "execution_count": 11,
   "id": "d334590c",
   "metadata": {},
   "outputs": [],
   "source": [
    "def scoring_model_A():\n",
    "    client = bigquery.Client()\n",
    "    table_id = 'Books.books_title_author'\n",
    "    sql = \"SELECT * FROM `sue-gcp-learning-env.sales_data.this_week`\" \n",
    "    year_week_table = client.query(sql).to_dataframe()\n",
    "\n",
    "    year_week_table['this_week_value'] = int(year_week_table['this_week_value'])\n",
    "    year_week = year_week_table['this_week_value'].iloc[0]\n",
    "    \n",
    "    client = bigquery.Client()\n",
    "    table_id = 'sales_data.superstore_sales_data_processed'\n",
    "    sql = \"SELECT * EXCEPT(total_sales) FROM `sue-gcp-learning-env.sales_data.superstore_sales_data_processed`  where segment = 'Consumer' and year_week =?\" \n",
    "\n",
    "    job_config = bigquery.QueryJobConfig(\n",
    "        query_parameters = [\n",
    "            bigquery.ScalarQueryParameter(None, \"INTEGER\" , int(year_week))\n",
    "        ]\n",
    "    )\n",
    "\n",
    "    sales_data = client.query(sql, job_config=job_config).to_dataframe()\n",
    "    print(\"Data Set Loaded\")\n",
    "    \n",
    "    data = sales_data.set_index(['order_date','segment','country', 'city', 'state','category', 'subcategory','ship_mode','year_week', 'day_of_week' ])\n",
    "    data['week_number'] = data['week_number'].map(int)  \n",
    "    \n",
    "    pickle_file_name = 'model_A_consumer.pkl'\n",
    "\n",
    "    with open(pickle_file_name,'rb') as pickle_model:\n",
    "        model = pickle.load(pickle_model)\n",
    "        \n",
    "    forecast = pd.DataFrame(model.predict(data))\n",
    "    \n",
    "    predictions = forecast\n",
    "    predictions['predict']= forecast\n",
    "    predictions = predictions['predict']\n",
    "    \n",
    "    data = data.reset_index()[['order_date','segment','country', 'city', 'state','category', 'subcategory','ship_mode']]\n",
    "    final_data = pd.merge(data, predictions , how = 'left', left_index=True , right_index=True)\n",
    "    \n",
    "    #Push table to Google Big Query\n",
    "\n",
    "    client = bigquery.Client()\n",
    "    project_id = 'sue-gcp-learning-env'\n",
    "    table_id = 'sales_data.forecast_result'\n",
    "    pandas_gbq.to_gbq(final_data, table_id, project_id=project_id, if_exists='append')\n",
    "    print(\"Uploaded Forecast Result to Big Query Table\")\n",
    "        \n",
    "    return (\"Result has been Updated\")\n",
    "    "
   ]
  },
  {
   "cell_type": "code",
   "execution_count": 13,
   "id": "fcc1a358",
   "metadata": {},
   "outputs": [],
   "source": [
    "def scoring_model_B():\n",
    "    client = bigquery.Client()\n",
    "    table_id = 'Books.books_title_author'\n",
    "    sql = \"SELECT * FROM `sue-gcp-learning-env.sales_data.this_week`\" \n",
    "    year_week_table = client.query(sql).to_dataframe()\n",
    "\n",
    "    year_week_table['this_week_value'] = int(year_week_table['this_week_value'])\n",
    "    year_week = year_week_table['this_week_value'].iloc[0]\n",
    "    \n",
    "    client = bigquery.Client()\n",
    "    table_id = 'sales_data.superstore_sales_data_processed'\n",
    "    sql = \"SELECT * EXCEPT(total_sales) FROM `sue-gcp-learning-env.sales_data.superstore_sales_data_processed`  where segment = 'Corporate' and year_week =?\" \n",
    "\n",
    "    job_config = bigquery.QueryJobConfig(\n",
    "        query_parameters = [\n",
    "            bigquery.ScalarQueryParameter(None, \"INTEGER\" , int(year_week))\n",
    "        ]\n",
    "    )\n",
    "\n",
    "    sales_data = client.query(sql, job_config=job_config).to_dataframe()\n",
    "    print(\"Data Set Loaded\")\n",
    "    \n",
    "    data = sales_data.set_index(['order_date','segment','country', 'city', 'state','category', 'subcategory','ship_mode','year_week', 'day_of_week' ])\n",
    "    data['week_number'] = data['week_number'].map(int)  \n",
    "    \n",
    "    pickle_file_name = 'model_B_corporate.pkl'\n",
    "\n",
    "    with open(pickle_file_name,'rb') as pickle_model:\n",
    "        model = pickle.load(pickle_model)\n",
    "        \n",
    "    forecast = pd.DataFrame(model.predict(data))\n",
    "    \n",
    "    predictions = forecast\n",
    "    predictions['predict']= forecast\n",
    "    predictions = predictions['predict']\n",
    "    \n",
    "    data = data.reset_index()[['order_date','segment','country', 'city', 'state','category', 'subcategory','ship_mode']]\n",
    "    final_data = pd.merge(data, predictions , how = 'left', left_index=True , right_index=True)\n",
    "    \n",
    "    #Push table to Google Big Query\n",
    "\n",
    "    client = bigquery.Client()\n",
    "    project_id = 'sue-gcp-learning-env'\n",
    "    table_id = 'sales_data.forecast_result'\n",
    "    pandas_gbq.to_gbq(final_data, table_id, project_id=project_id, if_exists='append')\n",
    "    print(\"Uploaded Forecast Result to Big Query Table\")\n",
    "        \n",
    "    return (\"Result has been Updated\")\n",
    "    "
   ]
  },
  {
   "cell_type": "code",
   "execution_count": 14,
   "id": "8e2be880",
   "metadata": {},
   "outputs": [
    {
     "name": "stdout",
     "output_type": "stream",
     "text": [
      "Data Set Loaded\n"
     ]
    },
    {
     "name": "stderr",
     "output_type": "stream",
     "text": [
      "1it [00:06,  6.04s/it]"
     ]
    },
    {
     "name": "stdout",
     "output_type": "stream",
     "text": [
      "Uploaded Forecast Result to Big Query Table\n"
     ]
    },
    {
     "name": "stderr",
     "output_type": "stream",
     "text": [
      "\n"
     ]
    },
    {
     "data": {
      "text/plain": [
       "'Result Completed for Model_B'"
      ]
     },
     "execution_count": 14,
     "metadata": {},
     "output_type": "execute_result"
    }
   ],
   "source": [
    "scoring_model_B()"
   ]
  },
  {
   "cell_type": "code",
   "execution_count": null,
   "id": "b1a85cc1",
   "metadata": {},
   "outputs": [],
   "source": []
  }
 ],
 "metadata": {
  "environment": {
   "name": "common-cpu.m75",
   "type": "gcloud",
   "uri": "gcr.io/deeplearning-platform-release/base-cpu:m75"
  },
  "kernelspec": {
   "display_name": "Python 3",
   "language": "python",
   "name": "python3"
  },
  "language_info": {
   "codemirror_mode": {
    "name": "ipython",
    "version": 3
   },
   "file_extension": ".py",
   "mimetype": "text/x-python",
   "name": "python",
   "nbconvert_exporter": "python",
   "pygments_lexer": "ipython3",
   "version": "3.7.10"
  }
 },
 "nbformat": 4,
 "nbformat_minor": 5
}
