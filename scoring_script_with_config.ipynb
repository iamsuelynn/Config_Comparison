{
 "cells": [
  {
   "cell_type": "code",
   "execution_count": 2,
   "id": "3509f76f",
   "metadata": {},
   "outputs": [],
   "source": [
    "import pandas as pd\n",
    "import gcsfs\n",
    "import pandas_gbq\n",
    "from google.cloud import bigquery\n",
    "import numpy as np\n",
    "import pickle\n",
    "import yaml"
   ]
  },
  {
   "cell_type": "code",
   "execution_count": 53,
   "id": "93391673",
   "metadata": {},
   "outputs": [],
   "source": [
    "def scoring_script(model):\n",
    "    config_file = \"\"+model+\".yml\"\n",
    "\n",
    "    with open(config_file, \"rb\") as file:\n",
    "        config = yaml.load(file)\n",
    "\n",
    "    segment = config['segment']\n",
    "    model_file_name = config['model_file_name']\n",
    "    columns = config['columns']\n",
    "\n",
    "    client = bigquery.Client()\n",
    "    table_id = 'Books.books_title_author'\n",
    "    sql = \"SELECT * FROM `sue-gcp-learning-env.sales_data.this_week`\" \n",
    "    year_week_table = client.query(sql).to_dataframe()\n",
    "\n",
    "    year_week_table['this_week_value'] = int(year_week_table['this_week_value'])\n",
    "    year_week = year_week_table['this_week_value'].iloc[0]\n",
    "\n",
    "    client = bigquery.Client()\n",
    "    table_id = 'sales_data.superstore_sales_data_processed'\n",
    "    sql = \"SELECT {columns} FROM `sue-gcp-learning-env.sales_data.superstore_sales_data_processed` where segment = ? and year_week = ?;\".format(columns=\",\".join(columns))\n",
    "\n",
    "    job_config = bigquery.QueryJobConfig(\n",
    "        query_parameters = [\n",
    "            bigquery.ScalarQueryParameter(None, \"STRING\" , segment),\n",
    "            bigquery.ScalarQueryParameter(None, \"INTEGER\" , int(year_week))\n",
    "        ]\n",
    "    )\n",
    "\n",
    "    sales_data = client.query(sql, job_config=job_config).to_dataframe()\n",
    "\n",
    "    data = sales_data.set_index(['order_date','segment','country', 'city', 'state','category', 'subcategory','ship_mode','year_week', 'day_of_week' ])\n",
    "    data['week_number'] = data['week_number'].map(int)  \n",
    "\n",
    "    pickle_file_name = model_file_name\n",
    "\n",
    "    with open(pickle_file_name,'rb') as pickle_model:\n",
    "        model = pickle.load(pickle_model)\n",
    "\n",
    "    forecast = pd.DataFrame(model.predict(data))\n",
    "\n",
    "    predictions = forecast\n",
    "    predictions['predict']= forecast\n",
    "    predictions = predictions['predict']\n",
    "    data = data.reset_index()[['order_date','segment','country', 'city', 'state','category', 'subcategory','ship_mode']]\n",
    "    final_data = pd.merge(data, predictions , how = 'left', left_index=True , right_index=True)\n",
    "\n",
    "    #Push table to Google Big Query\n",
    "\n",
    "    client = bigquery.Client()\n",
    "    project_id = 'sue-gcp-learning-env'\n",
    "    table_id = 'sales_data.forecast_result'\n",
    "    pandas_gbq.to_gbq(final_data, table_id, project_id=project_id, if_exists='append')\n",
    "    print(\"Uploaded Forecast Result to Big Query Table\")\n",
    "    \n",
    "    return (\"Result has been Updated\")"
   ]
  },
  {
   "cell_type": "code",
   "execution_count": 55,
   "id": "93a37609",
   "metadata": {},
   "outputs": [
    {
     "name": "stderr",
     "output_type": "stream",
     "text": [
      "/opt/conda/lib/python3.7/site-packages/ipykernel_launcher.py:5: YAMLLoadWarning: calling yaml.load() without Loader=... is deprecated, as the default Loader is unsafe. Please read https://msg.pyyaml.org/load for full details.\n",
      "  \"\"\"\n",
      "1it [00:05,  5.48s/it]"
     ]
    },
    {
     "name": "stdout",
     "output_type": "stream",
     "text": [
      "Uploaded Forecast Result to Big Query Table\n"
     ]
    },
    {
     "name": "stderr",
     "output_type": "stream",
     "text": [
      "\n"
     ]
    },
    {
     "data": {
      "text/plain": [
       "'Result has been Updated'"
      ]
     },
     "execution_count": 55,
     "metadata": {},
     "output_type": "execute_result"
    }
   ],
   "source": [
    "scoring_script(\"model_B\")"
   ]
  },
  {
   "cell_type": "code",
   "execution_count": 25,
   "id": "ef955607",
   "metadata": {},
   "outputs": [],
   "source": []
  },
  {
   "cell_type": "code",
   "execution_count": 29,
   "id": "3e898237",
   "metadata": {},
   "outputs": [],
   "source": []
  },
  {
   "cell_type": "code",
   "execution_count": 32,
   "id": "811fbfd1",
   "metadata": {},
   "outputs": [],
   "source": []
  },
  {
   "cell_type": "code",
   "execution_count": null,
   "id": "5df198b1",
   "metadata": {},
   "outputs": [],
   "source": []
  }
 ],
 "metadata": {
  "environment": {
   "name": "common-cpu.m75",
   "type": "gcloud",
   "uri": "gcr.io/deeplearning-platform-release/base-cpu:m75"
  },
  "kernelspec": {
   "display_name": "Python 3",
   "language": "python",
   "name": "python3"
  },
  "language_info": {
   "codemirror_mode": {
    "name": "ipython",
    "version": 3
   },
   "file_extension": ".py",
   "mimetype": "text/x-python",
   "name": "python",
   "nbconvert_exporter": "python",
   "pygments_lexer": "ipython3",
   "version": "3.7.10"
  }
 },
 "nbformat": 4,
 "nbformat_minor": 5
}
